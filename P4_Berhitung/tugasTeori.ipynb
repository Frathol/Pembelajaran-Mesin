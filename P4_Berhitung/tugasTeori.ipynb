{
 "cells": [
  {
   "cell_type": "code",
   "execution_count": 1,
   "metadata": {},
   "outputs": [],
   "source": [
    "import math"
   ]
  },
  {
   "cell_type": "code",
   "execution_count": 2,
   "metadata": {},
   "outputs": [],
   "source": [
    "# Fungsi untuk menghitung jarak Euclidean\n",
    "def euclidean_distance(point1, point2):\n",
    "    return math.sqrt(sum((p2 - p1) ** 2 for p1, p2 in zip(point1, point2)))\n",
    "\n",
    "# Fungsi untuk menghitung jarak Manhattan\n",
    "def manhattan_distance(point1, point2):\n",
    "    return sum(abs(p2 - p1) for p1, p2 in zip(point1, point2))\n"
   ]
  },
  {
   "cell_type": "code",
   "execution_count": 3,
   "metadata": {},
   "outputs": [],
   "source": [
    "# Titik-titik dalam 2D\n",
    "A_2D = (3, 4)\n",
    "B_2D = (1, 2)\n",
    "\n",
    "# Titik-titik dalam 3D\n",
    "A_3D = (1, 2, 3)\n",
    "C_3D = (7, 8, 9)"
   ]
  },
  {
   "cell_type": "code",
   "execution_count": 4,
   "metadata": {},
   "outputs": [],
   "source": [
    "# Menghitung jarak\n",
    "euclidean_2D = euclidean_distance(A_2D, B_2D)\n",
    "manhattan_2D = manhattan_distance(A_2D, B_2D)\n",
    "\n",
    "euclidean_3D = euclidean_distance(A_3D, C_3D)\n",
    "manhattan_3D = manhattan_distance(A_3D, C_3D)"
   ]
  },
  {
   "cell_type": "code",
   "execution_count": 5,
   "metadata": {},
   "outputs": [
    {
     "data": {
      "text/plain": [
       "(2.8284271247461903, 4, 10.392304845413264, 18)"
      ]
     },
     "execution_count": 5,
     "metadata": {},
     "output_type": "execute_result"
    }
   ],
   "source": [
    "# Menampilkan hasil\n",
    "euclidean_2D, manhattan_2D, euclidean_3D, manhattan_3D"
   ]
  }
 ],
 "metadata": {
  "kernelspec": {
   "display_name": "Python 3",
   "language": "python",
   "name": "python3"
  },
  "language_info": {
   "codemirror_mode": {
    "name": "ipython",
    "version": 3
   },
   "file_extension": ".py",
   "mimetype": "text/x-python",
   "name": "python",
   "nbconvert_exporter": "python",
   "pygments_lexer": "ipython3",
   "version": "3.11.4"
  }
 },
 "nbformat": 4,
 "nbformat_minor": 2
}
