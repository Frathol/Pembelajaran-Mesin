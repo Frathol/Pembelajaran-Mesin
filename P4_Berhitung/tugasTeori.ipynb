{
 "cells": [
  {
   "cell_type": "code",
   "execution_count": 20,
   "metadata": {},
   "outputs": [],
   "source": [
    "import math"
   ]
  },
  {
   "cell_type": "code",
   "execution_count": 21,
   "metadata": {},
   "outputs": [],
   "source": [
    "# Fungsi untuk menghitung jarak Euclidean dan Manhattan untuk 2 point/2D\n",
    "def euclidean_distance_2d(x1, y1, x2, y2):\n",
    "    return math.sqrt((x2 - x1) ** 2 + (y2 - y1) ** 2)\n",
    "\n",
    "def manhattan_distance_2d(x1, y1, x2, y2):\n",
    "    return abs(x2 - x1) + abs(y2 - y1)\n",
    "\n",
    "\n",
    "# Fungsi untuk menghitung jarak Euclidean dan Manhattan untuk 3 point/3D\n",
    "\n",
    "def euclidean_distance_3d(x1, y1, z1, x2, y2, z2):\n",
    "    return math.sqrt((x2 - x1) ** 2 + (y2 - y1) ** 2 + (z2 - z1) ** 2)\n",
    "\n",
    "def manhattan_distance_3d(x1, y1, z1, x2, y2, z2):\n",
    "    return abs(x2 - x1) + abs(y2 - y1) + abs(z2 - z1)\n"
   ]
  },
  {
   "cell_type": "code",
   "execution_count": 22,
   "metadata": {},
   "outputs": [
    {
     "name": "stdout",
     "output_type": "stream",
     "text": [
      "Jarak Euclidean 2D: 2.24\n",
      "Jarak Manhattan 2D: 3\n"
     ]
    }
   ],
   "source": [
    "# Soal 1: Jarak antara A(3,4) dan B(1,2)\n",
    "x1 = 3\n",
    "y1 = 3\n",
    "x2 = 1\n",
    "y2 = 2\n",
    "\n",
    "euclidean_2d = euclidean_distance_2d(x1, y1, x2, y2)\n",
    "manhattan_2d = manhattan_distance_2d(x1, y1, x2, y2)\n",
    "\n",
    "print(f\"Jarak Euclidean 2D: {euclidean_2d:.2f}\")\n",
    "print(f\"Jarak Manhattan 2D: {manhattan_2d}\")"
   ]
  },
  {
   "cell_type": "code",
   "execution_count": 23,
   "metadata": {},
   "outputs": [
    {
     "name": "stdout",
     "output_type": "stream",
     "text": [
      "Jarak Euclidean 3D: 10.39\n",
      "Jarak Manhattan 3D: 18\n"
     ]
    }
   ],
   "source": [
    "# Soal 2: Jarak antara A(1,2,3) dan C(7,8,9)\n",
    "x1, y1, z1 = 1, 2, 3\n",
    "x2, y2, z2 = 7, 8, 9\n",
    "\n",
    "euclidean_3d = euclidean_distance_3d(x1, y1, z1, x2, y2, z2)\n",
    "manhattan_3d = manhattan_distance_3d(x1, y1, z1, x2, y2, z2)\n",
    "\n",
    "print(f\"Jarak Euclidean 3D: {euclidean_3d:.2f}\")\n",
    "print(f\"Jarak Manhattan 3D: {manhattan_3d}\")"
   ]
  }
 ],
 "metadata": {
  "kernelspec": {
   "display_name": "Python 3",
   "language": "python",
   "name": "python3"
  },
  "language_info": {
   "codemirror_mode": {
    "name": "ipython",
    "version": 3
   },
   "file_extension": ".py",
   "mimetype": "text/x-python",
   "name": "python",
   "nbconvert_exporter": "python",
   "pygments_lexer": "ipython3",
   "version": "3.11.4"
  }
 },
 "nbformat": 4,
 "nbformat_minor": 2
}
