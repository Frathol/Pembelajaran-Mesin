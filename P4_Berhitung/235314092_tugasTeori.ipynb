{
 "cells": [
  {
   "cell_type": "code",
   "execution_count": null,
   "metadata": {},
   "outputs": [],
   "source": [
    "#Michael Mosses Chrsitianto / 235314092\n",
    "import math"
   ]
  },
  {
   "cell_type": "code",
   "execution_count": 1,
   "metadata": {},
   "outputs": [],
   "source": [
    "# Fungsi untuk menghitung jarak Euclidean dan Manhattan untuk 2 point/2D\n",
    "def euclidean_distance_2d(x1, y1, x2, y2):\n",
    "    return math.sqrt((x2 - x1) ** 2 + (y2 - y1) ** 2)\n",
    "\n",
    "def manhattan_distance_2d(x1, y1, x2, y2):\n",
    "    return abs(x2 - x1) + abs(y2 - y1)\n",
    "\n",
    "\n",
    "# Fungsi untuk menghitung jarak Euclidean dan Manhattan untuk 3 point/3D\n",
    "\n",
    "def euclidean_distance_3d(x1, y1, z1, x2, y2, z2):\n",
    "    return math.sqrt((x2 - x1) ** 2 + (y2 - y1) ** 2 + (z2 - z1) ** 2)\n",
    "\n",
    "def manhattan_distance_3d(x1, y1, z1, x2, y2, z2):\n",
    "    return abs(x2 - x1) + abs(y2 - y1) + abs(z2 - z1)\n"
   ]
  },
  {
   "cell_type": "code",
   "execution_count": 2,
   "metadata": {},
   "outputs": [
    {
     "ename": "NameError",
     "evalue": "name 'math' is not defined",
     "output_type": "error",
     "traceback": [
      "\u001b[1;31m---------------------------------------------------------------------------\u001b[0m",
      "\u001b[1;31mNameError\u001b[0m                                 Traceback (most recent call last)",
      "Cell \u001b[1;32mIn[2], line 7\u001b[0m\n\u001b[0;32m      4\u001b[0m x2 \u001b[38;5;241m=\u001b[39m \u001b[38;5;241m1\u001b[39m\n\u001b[0;32m      5\u001b[0m y2 \u001b[38;5;241m=\u001b[39m \u001b[38;5;241m2\u001b[39m\n\u001b[1;32m----> 7\u001b[0m euclidean_2d \u001b[38;5;241m=\u001b[39m \u001b[43meuclidean_distance_2d\u001b[49m\u001b[43m(\u001b[49m\u001b[43mx1\u001b[49m\u001b[43m,\u001b[49m\u001b[43m \u001b[49m\u001b[43my1\u001b[49m\u001b[43m,\u001b[49m\u001b[43m \u001b[49m\u001b[43mx2\u001b[49m\u001b[43m,\u001b[49m\u001b[43m \u001b[49m\u001b[43my2\u001b[49m\u001b[43m)\u001b[49m\n\u001b[0;32m      8\u001b[0m manhattan_2d \u001b[38;5;241m=\u001b[39m manhattan_distance_2d(x1, y1, x2, y2)\n\u001b[0;32m     10\u001b[0m \u001b[38;5;28mprint\u001b[39m(\u001b[38;5;124mf\u001b[39m\u001b[38;5;124m\"\u001b[39m\u001b[38;5;124mJarak Euclidean 2D: \u001b[39m\u001b[38;5;132;01m{\u001b[39;00meuclidean_2d\u001b[38;5;132;01m:\u001b[39;00m\u001b[38;5;124m.2f\u001b[39m\u001b[38;5;132;01m}\u001b[39;00m\u001b[38;5;124m\"\u001b[39m)\n",
      "Cell \u001b[1;32mIn[1], line 3\u001b[0m, in \u001b[0;36meuclidean_distance_2d\u001b[1;34m(x1, y1, x2, y2)\u001b[0m\n\u001b[0;32m      2\u001b[0m \u001b[38;5;28;01mdef\u001b[39;00m \u001b[38;5;21meuclidean_distance_2d\u001b[39m(x1, y1, x2, y2):\n\u001b[1;32m----> 3\u001b[0m     \u001b[38;5;28;01mreturn\u001b[39;00m \u001b[43mmath\u001b[49m\u001b[38;5;241m.\u001b[39msqrt((x2 \u001b[38;5;241m-\u001b[39m x1) \u001b[38;5;241m*\u001b[39m\u001b[38;5;241m*\u001b[39m \u001b[38;5;241m2\u001b[39m \u001b[38;5;241m+\u001b[39m (y2 \u001b[38;5;241m-\u001b[39m y1) \u001b[38;5;241m*\u001b[39m\u001b[38;5;241m*\u001b[39m \u001b[38;5;241m2\u001b[39m)\n",
      "\u001b[1;31mNameError\u001b[0m: name 'math' is not defined"
     ]
    }
   ],
   "source": [
    "# Soal 1: Jarak antara A(3,4) dan B(1,2)\n",
    "x1 = 3\n",
    "y1 = 3\n",
    "x2 = 1\n",
    "y2 = 2\n",
    "\n",
    "euclidean_2d = euclidean_distance_2d(x1, y1, x2, y2)\n",
    "manhattan_2d = manhattan_distance_2d(x1, y1, x2, y2)\n",
    "\n",
    "print(f\"Jarak Euclidean 2D: {euclidean_2d:.2f}\")\n",
    "print(f\"Jarak Manhattan 2D: {manhattan_2d}\")"
   ]
  },
  {
   "cell_type": "code",
   "execution_count": null,
   "metadata": {},
   "outputs": [
    {
     "name": "stdout",
     "output_type": "stream",
     "text": [
      "Jarak Euclidean 3D: 10.39\n",
      "Jarak Manhattan 3D: 18\n"
     ]
    }
   ],
   "source": [
    "# Soal 2: Jarak antara A(1,2,3) dan C(7,8,9)\n",
    "x1, y1, z1 = 1, 2, 3\n",
    "x2, y2, z2 = 7, 8, 9\n",
    "\n",
    "euclidean_3d = euclidean_distance_3d(x1, y1, z1, x2, y2, z2)\n",
    "manhattan_3d = manhattan_distance_3d(x1, y1, z1, x2, y2, z2)\n",
    "\n",
    "print(f\"Jarak Euclidean 3D: {euclidean_3d:.2f}\")\n",
    "print(f\"Jarak Manhattan 3D: {manhattan_3d}\")"
   ]
  }
 ],
 "metadata": {
  "kernelspec": {
   "display_name": "Python 3",
   "language": "python",
   "name": "python3"
  },
  "language_info": {
   "codemirror_mode": {
    "name": "ipython",
    "version": 3
   },
   "file_extension": ".py",
   "mimetype": "text/x-python",
   "name": "python",
   "nbconvert_exporter": "python",
   "pygments_lexer": "ipython3",
   "version": "3.11.4"
  }
 },
 "nbformat": 4,
 "nbformat_minor": 2
}
